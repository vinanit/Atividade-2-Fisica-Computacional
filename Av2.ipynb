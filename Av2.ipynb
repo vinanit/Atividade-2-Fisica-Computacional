{
 "cells": [
  {
   "cell_type": "markdown",
   "id": "e1884f31",
   "metadata": {},
   "source": [
    "![alt text](Enunciado_1.png)"
   ]
  },
  {
   "cell_type": "markdown",
   "id": "d8ec39c2",
   "metadata": {},
   "source": [
    "Fluxograma 1"
   ]
  },
  {
   "cell_type": "code",
   "execution_count": null,
   "id": "ae7186b5",
   "metadata": {},
   "outputs": [],
   "source": [
    "#Exercício 1\n",
    "#Tem que fazer um grafico da posição em funçao do tempo\n",
    "import matplotlib.pyplot as plt\n",
    "import numpy as np\n",
    "# Dados\n",
    "tempo = np.array([i for i in range(100)])\n"
   ]
  },
  {
   "cell_type": "markdown",
   "id": "616d8f39",
   "metadata": {},
   "source": [
    "![alt text](Enunciado_2.png)"
   ]
  },
  {
   "cell_type": "markdown",
   "id": "fb7abb7e",
   "metadata": {},
   "source": [
    "Fluxograma 2"
   ]
  },
  {
   "cell_type": "code",
   "execution_count": 14,
   "id": "6dbf47de",
   "metadata": {},
   "outputs": [
    {
     "name": "stdout",
     "output_type": "stream",
     "text": [
      "Lista ordenada: [1, 2, 3, 4, 5, 6, 20, 30]\n"
     ]
    }
   ],
   "source": [
    "#Exercício 2 \n",
    "#Obter a lista de números inteiros do usuário\n",
    "numeros = input(\"Digite uma lista de números inteiros separados por um espaço: \")\n",
    "numeros = numeros.strip().split(' ')\n",
    "for i in range(len(numeros)):\n",
    "    numeros[i] = int(numeros[i])\n",
    "\n",
    "#Ordenar a lista de números\n",
    "for i in range(len(numeros)):\n",
    "    for j in range(i + 1, len(numeros)):\n",
    "        if numeros[i] > numeros[j]:\n",
    "            # Trocar os números\n",
    "            numeros[i], numeros[j] = numeros[j], numeros[i]\n",
    "\n",
    "print(\"Lista ordenada:\", numeros)"
   ]
  },
  {
   "cell_type": "markdown",
   "id": "70d4776e",
   "metadata": {},
   "source": [
    "![alt text](Enunciado_3.png)"
   ]
  },
  {
   "cell_type": "markdown",
   "id": "ceba0d6a",
   "metadata": {},
   "source": [
    "Fluxograma 3"
   ]
  },
  {
   "cell_type": "code",
   "execution_count": 1,
   "id": "6240a0d3",
   "metadata": {},
   "outputs": [
    {
     "name": "stdout",
     "output_type": "stream",
     "text": [
      "O numero 5 é ímpar\n"
     ]
    }
   ],
   "source": [
    "#Exercicio 3\n",
    "#Obtem o numero do usuário\n",
    "num = int(input('Digite um número inteiro: '))\n",
    "\n",
    "#Descobre se o numero é par a partir do resto da divisão do número por 2\n",
    "if num % 2 == 0:\n",
    "  print('O numero', num, 'é par')\n",
    "else:\n",
    "  print('O numero', num, 'é ímpar')\n"
   ]
  },
  {
   "cell_type": "markdown",
   "id": "735a6eca",
   "metadata": {},
   "source": [
    "![alt text](Enunciado_4.png)"
   ]
  },
  {
   "cell_type": "markdown",
   "id": "eccb29de",
   "metadata": {},
   "source": [
    "Fluxograma 4"
   ]
  },
  {
   "cell_type": "code",
   "execution_count": null,
   "id": "0ad00820",
   "metadata": {},
   "outputs": [],
   "source": [
    "#Exercicio 4\n",
    "#Biblioteca com função de seno e cosseno\n",
    "import math\n",
    "\n",
    "print('O seguinte programa converte numeros em coordenadas polares para coordenadas cartezianas \\n')\n",
    "#Obtem o raio\n",
    "\n",
    "#Função para imprimir os valores cartezianos\n",
    "def imprimir_valor_carteziano(r, a):\n",
    "  x = math.cos(a)*r\n",
    "  y = math.sin(a)*r\n",
    "\n",
    "  print(f'Valor de x: {x:.4f}')\n",
    "  print(f'Valor de y: {y:.4f}')\n",
    "\n",
    "#Define o nome da string\n",
    "def definir_nome_angulo(status_angulo):\n",
    "  if status_angulo:\n",
    "    nome_angulo = 'graus'\n",
    "  else:\n",
    "    nome_angulo = 'radianos'\n",
    "  return nome_angulo\n",
    "\n",
    "#Calcula o angulo em radianos\n",
    "def calcula_angulo(status_angulo, angulo):\n",
    "  if status_angulo:\n",
    "    angulo = math.radians(angulo)\n",
    "\n",
    "  return angulo\n",
    "\n",
    "status_angulo = True\n",
    "while True:\n",
    "\n",
    "  raio = float(input('Digite o valor do raio: '))\n",
    "  print('digite \"s\" para trocar o tipo de angulo \\n')\n",
    "\n",
    "  nome_angulo = definir_nome_angulo(status_angulo)\n",
    "  valor_angulo = str(input(f'Digite o angulo em {nome_angulo}'))\n",
    "\n",
    "  while True:\n",
    "    if valor_angulo == 's':\n",
    "      status_angulo = not status_angulo\n",
    "      nome_angulo = definir_nome_angulo(status_angulo)\n",
    "      valor_angulo = str(input(f'Digite o angulo em {nome_angulo}'))\n",
    "    else:\n",
    "      valor_angulo = float(valor_angulo)\n",
    "      break\n",
    "\n",
    "\n",
    "  valor_angulo = calcula_angulo(status_angulo, valor_angulo)\n",
    "\n",
    "  imprimir_valor_carteziano(raio, valor_angulo)\n",
    "\n",
    "  continuar = input('Se deseja continuar digite \"s\"')\n",
    "  if continuar != 's':\n",
    "    break\n",
    "  \n"
   ]
  },
  {
   "cell_type": "markdown",
   "id": "77bd4ff2",
   "metadata": {},
   "source": [
    "![alt text](Enunciado_5.png)"
   ]
  },
  {
   "cell_type": "markdown",
   "id": "2952b0ce",
   "metadata": {},
   "source": [
    "Fluxograma 5"
   ]
  },
  {
   "cell_type": "code",
   "execution_count": 11,
   "id": "8aba391e",
   "metadata": {},
   "outputs": [
    {
     "name": "stdout",
     "output_type": "stream",
     "text": [
      "2,3,5,7,11,13,17,19,23,29,31,37,41,43,47,53,59,61,67,71,73,79,83,89,97,101,103,107,109,113,127,131,137,139,149,151,157,163,167,173,179,181,191,193,197,199,211,223,227,229,233,239,241,251,257,263,269,271,277,281,283,293,307,311,313,317,331,337,347,349,353,359,367,373,379,383,389,397,401,409,419,421,431,433,439,443,449,457,461,463,467,479,487,491,499,503,509,521,523,541,547,557,563,569,571,577,587,593,599,601,607,613,617,619,631,641,643,647,653,659,661,673,677,683,691,701,709,719,727,733,739,743,751,757,761,769,773,787,797,809,811,821,823,827,829,839,853,857,859,863,877,881,883,887,907,911,919,929,937,941,947,953,967,971,977,983,991,997,1009,1013,1019,1021,1031,1033,1039,1049,1051,1061,1063,1069,1087,1091,1093,1097,1103,1109,1117,1123,1129,1151,1153,1163,1171,1181,1187,1193,1201,1213,1217,1223,1229,1231,1237,1249,1259,1277,1279,1283,1289,1291,1297,1301,1303,1307,1319,1321,1327,1361,1367,1373,1381,1399,1409,1423,1427,1429,1433,1439,1447,1451,1453,1459,1471,1481,1483,1487,1489,1493,1499,1511,1523,1531,1543,1549,1553,1559,1567,1571,1579,1583,1597,1601,1607,1609,1613,1619,1621,1627,1637,1657,1663,1667,1669,1693,1697,1699,1709,1721,1723,1733,1741,1747,1753,1759,1777,1783,1787,1789,1801,1811,1823,1831,1847,1861,1867,1871,1873,1877,1879,1889,1901,1907,1913,1931,1933,1949,1951,1973,1979,1987,"
     ]
    }
   ],
   "source": [
    "#Exercicio 5\n",
    "#Conta os elementos\n",
    "\n",
    "#Lista dos numeros primos\n",
    "numeros_primos = [2]\n",
    "\n",
    "#Numero inicial\n",
    "n = 2\n",
    "\n",
    "print('2,', end='')\n",
    "# Encontrar e imprimir os próximos 20 números primos após o valor atual de n\n",
    "encontrados = 1\n",
    "while encontrados < 300:\n",
    "    for primo in numeros_primos:\n",
    "        if n % primo == 0:\n",
    "            break\n",
    "    else:\n",
    "        numeros_primos.append(n)\n",
    "        print(f'{n}', end=',')\n",
    "        encontrados += 1\n",
    "    n += 1\n"
   ]
  }
 ],
 "metadata": {
  "kernelspec": {
   "display_name": "base",
   "language": "python",
   "name": "python3"
  },
  "language_info": {
   "codemirror_mode": {
    "name": "ipython",
    "version": 3
   },
   "file_extension": ".py",
   "mimetype": "text/x-python",
   "name": "python",
   "nbconvert_exporter": "python",
   "pygments_lexer": "ipython3",
   "version": "3.12.7"
  }
 },
 "nbformat": 4,
 "nbformat_minor": 5
}
