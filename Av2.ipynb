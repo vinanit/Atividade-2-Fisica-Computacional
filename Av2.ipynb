{
 "cells": [
  {
   "cell_type": "markdown",
   "id": "e1884f31",
   "metadata": {},
   "source": [
    "![alt text](Enunciado_1.png)"
   ]
  },
  {
   "cell_type": "markdown",
   "id": "d8ec39c2",
   "metadata": {},
   "source": [
    "Fluxograma 1"
   ]
  },
  {
   "cell_type": "code",
   "execution_count": null,
   "id": "ae7186b5",
   "metadata": {},
   "outputs": [],
   "source": [
    "#Exercício 1"
   ]
  },
  {
   "cell_type": "markdown",
   "id": "616d8f39",
   "metadata": {},
   "source": [
    "![alt text](Enunciado_2.png)"
   ]
  },
  {
   "cell_type": "markdown",
   "id": "fb7abb7e",
   "metadata": {},
   "source": [
    "Fluxograma 2"
   ]
  },
  {
   "cell_type": "code",
   "execution_count": null,
   "id": "6dbf47de",
   "metadata": {},
   "outputs": [],
   "source": []
  },
  {
   "cell_type": "markdown",
   "id": "70d4776e",
   "metadata": {},
   "source": [
    "![alt text](Enunciado_3.png)"
   ]
  },
  {
   "cell_type": "markdown",
   "id": "ceba0d6a",
   "metadata": {},
   "source": [
    "Fluxograma 3"
   ]
  },
  {
   "cell_type": "code",
   "execution_count": 1,
   "id": "6240a0d3",
   "metadata": {},
   "outputs": [
    {
     "name": "stdout",
     "output_type": "stream",
     "text": [
      "O numero 5 é ímpar\n"
     ]
    }
   ],
   "source": [
    "#Exercicio 3\n",
    "#Obtem o numero do usuário\n",
    "num = int(input('Digite um número inteiro: '))\n",
    "\n",
    "#Descobre se o numero é par a partir do resto da divisão do número por 2\n",
    "if num % 2 == 0:\n",
    "  print('O numero', num, 'é par')\n",
    "else:\n",
    "  print('O numero', num, 'é ímpar')\n"
   ]
  },
  {
   "cell_type": "markdown",
   "id": "735a6eca",
   "metadata": {},
   "source": [
    "![alt text](Enunciado_4.png)"
   ]
  },
  {
   "cell_type": "markdown",
   "id": "eccb29de",
   "metadata": {},
   "source": [
    "Fluxograma 4"
   ]
  },
  {
   "cell_type": "code",
   "execution_count": null,
   "id": "0ad00820",
   "metadata": {},
   "outputs": [],
   "source": [
    "#Exercicio 4\n",
    "#Biblioteca com função de seno e cosseno\n",
    "import math\n",
    "\n",
    "print('O seguinte programa converte numeros em coordenadas polares para coordenadas cartezianas \\n')\n",
    "#Obtem o raio\n",
    "\n",
    "#Função para imprimir os valores cartezianos\n",
    "def imprimir_valor_carteziano(r, a):\n",
    "  x = math.cos(a)*r\n",
    "  y = math.sin(a)*r\n",
    "\n",
    "  print(f'Valor de x: {x:.4f}')\n",
    "  print(f'Valor de y: {y:.4f}')\n",
    "\n",
    "#Define o nome da string\n",
    "def definir_nome_angulo(status_angulo):\n",
    "  if status_angulo:\n",
    "    nome_angulo = 'graus'\n",
    "  else:\n",
    "    nome_angulo = 'radianos'\n",
    "  return nome_angulo\n",
    "\n",
    "#Calcula o angulo em radianos\n",
    "def calcula_angulo(status_angulo, angulo):\n",
    "  if status_angulo:\n",
    "    angulo = math.radians(angulo)\n",
    "\n",
    "  return angulo\n",
    "\n",
    "status_angulo = True\n",
    "while True:\n",
    "\n",
    "  raio = float(input('Digite o valor do raio: '))\n",
    "  print('digite \"s\" para trocar o tipo de angulo \\n')\n",
    "\n",
    "  nome_angulo = definir_nome_angulo(status_angulo)\n",
    "  valor_angulo = str(input(f'Digite o angulo em {nome_angulo}'))\n",
    "\n",
    "  while True:\n",
    "    if valor_angulo == 's':\n",
    "      status_angulo = not status_angulo\n",
    "      nome_angulo = definir_nome_angulo(status_angulo)\n",
    "      valor_angulo = str(input(f'Digite o angulo em {nome_angulo}'))\n",
    "    else:\n",
    "      valor_angulo = float(valor_angulo)\n",
    "      break\n",
    "\n",
    "\n",
    "  valor_angulo = calcula_angulo(status_angulo, valor_angulo)\n",
    "\n",
    "  imprimir_valor_carteziano(raio, valor_angulo)\n",
    "\n",
    "  continuar = input('Se deseja continuar digite \"s\"')\n",
    "  if continuar != 's':\n",
    "    break\n",
    "  \n"
   ]
  },
  {
   "cell_type": "markdown",
   "id": "77bd4ff2",
   "metadata": {},
   "source": [
    "![alt text](Enunciado_5.png)"
   ]
  },
  {
   "cell_type": "markdown",
   "id": "2952b0ce",
   "metadata": {},
   "source": [
    "Fluxograma 5"
   ]
  },
  {
   "cell_type": "code",
   "execution_count": null,
   "id": "8aba391e",
   "metadata": {},
   "outputs": [],
   "source": []
  }
 ],
 "metadata": {
  "kernelspec": {
   "display_name": "base",
   "language": "python",
   "name": "python3"
  },
  "language_info": {
   "codemirror_mode": {
    "name": "ipython",
    "version": 3
   },
   "file_extension": ".py",
   "mimetype": "text/x-python",
   "name": "python",
   "nbconvert_exporter": "python",
   "pygments_lexer": "ipython3",
   "version": "3.12.7"
  }
 },
 "nbformat": 4,
 "nbformat_minor": 5
}
